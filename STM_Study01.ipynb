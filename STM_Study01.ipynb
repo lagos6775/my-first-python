{
  "nbformat": 4,
  "nbformat_minor": 0,
  "metadata": {
    "colab": {
      "provenance": []
    },
    "kernelspec": {
      "name": "python3",
      "display_name": "Python 3"
    },
    "language_info": {
      "name": "python"
    }
  },
  "cells": [
    {
      "cell_type": "code",
      "execution_count": 2,
      "metadata": {
        "colab": {
          "base_uri": "https://localhost:8080/"
        },
        "id": "LHCzwkfHVNZB",
        "outputId": "7f688d42-fd3b-4150-dae0-c4d70e578595"
      },
      "outputs": [
        {
          "output_type": "execute_result",
          "data": {
            "text/plain": [
              "243"
            ]
          },
          "metadata": {},
          "execution_count": 2
        }
      ],
      "source": [
        "3+5   #運算顯示方式說明\n",
        "3-5\n",
        "3*5\n",
        "3**5"
      ]
    },
    {
      "cell_type": "code",
      "source": [
        "print(3+5)   #運算全部顯示方式說明\n",
        "print(3-5)\n",
        "print(3*5)\n",
        "print(3**5)"
      ],
      "metadata": {
        "colab": {
          "base_uri": "https://localhost:8080/"
        },
        "id": "AsqL7Yi8XuKO",
        "outputId": "e4b0690c-970a-481e-aa30-a4db433c4427"
      },
      "execution_count": 3,
      "outputs": [
        {
          "output_type": "stream",
          "name": "stdout",
          "text": [
            "8\n",
            "-2\n",
            "15\n",
            "243\n"
          ]
        }
      ]
    },
    {
      "cell_type": "code",
      "source": [
        "print(100)   #int,str,bool,Flag\n",
        "print(3.1415)\n",
        "print(1+2j)\n",
        "print(True)\n",
        "print(False)\n",
        "print('Hello Word')\n",
        "print(\"http://www.google.com\")\n"
      ],
      "metadata": {
        "colab": {
          "base_uri": "https://localhost:8080/"
        },
        "id": "1PQ_s938Y4oF",
        "outputId": "a45eda3e-235c-4620-e365-c68aadabacfe"
      },
      "execution_count": 4,
      "outputs": [
        {
          "output_type": "stream",
          "name": "stdout",
          "text": [
            "100\n",
            "3.1415\n",
            "(1+2j)\n",
            "True\n",
            "False\n",
            "Hello Word\n",
            "http://www.google.com\n"
          ]
        }
      ]
    },
    {
      "cell_type": "code",
      "source": [
        "x=3+5   #計算測試\n",
        "x=x+1\n",
        "print(x)"
      ],
      "metadata": {
        "colab": {
          "base_uri": "https://localhost:8080/"
        },
        "id": "t1_y6a8BaUGd",
        "outputId": "b6577a95-ed01-42e1-94e9-f476f248492c"
      },
      "execution_count": 6,
      "outputs": [
        {
          "output_type": "stream",
          "name": "stdout",
          "text": [
            "9\n"
          ]
        }
      ]
    },
    {
      "cell_type": "markdown",
      "source": [
        "x = 2   #不知道按到什麼才變這意\n",
        "y = 3\n",
        "z = \"Hello Word\"\n",
        "x = 9\n",
        "print(x)"
      ],
      "metadata": {
        "id": "NpeyYdhNclTQ"
      }
    },
    {
      "cell_type": "code",
      "source": [
        "x = 2   #計算結果顯示（以最後值為最終結果）\n",
        "y = 3\n",
        "z = \"Hello Word\"\n",
        "x = 9\n",
        "print(x)"
      ],
      "metadata": {
        "id": "ipcC4g6Yfa3S"
      },
      "execution_count": null,
      "outputs": []
    },
    {
      "cell_type": "code",
      "source": [
        "# x123 = \"Hello Word\"   #錯誤語法及ctrl+/快速上註解符號＃\n",
        "# _xX_123_ = \"Hello Word\"\n",
        "# 123_xX_ = \"Hello Word\"\n",
        "# !@#$%^&*()- = \"Hello Word\"\n"
      ],
      "metadata": {
        "id": "4s0JitXxfegS"
      },
      "execution_count": null,
      "outputs": []
    },
    {
      "cell_type": "code",
      "source": [
        "print(5//3)  #除數_除法取整數\n",
        "print(5/3)   #除數_除法取小數點\n",
        "print(9%2)   #餘數_除法取餘數\n",
        "print(9%3)   #餘數_除法取餘數\n",
        "print(9%4)   #餘數_除法取餘數\n",
        "print(9%5)   #餘數_除法取餘數\n",
        "print(9%6)   #餘數_除法取餘數\n",
        "print(9%7)   #餘數_除法取餘數\n",
        "print(9%8)   #餘數_除法取餘數\n",
        "print(9%9)   #餘數_除法取餘數"
      ],
      "metadata": {
        "colab": {
          "base_uri": "https://localhost:8080/"
        },
        "id": "WyosYC8Dfwu9",
        "outputId": "ee355e42-f186-464d-8c19-27f8fbb4fdf5"
      },
      "execution_count": 15,
      "outputs": [
        {
          "output_type": "stream",
          "name": "stdout",
          "text": [
            "1\n",
            "1.6666666666666667\n",
            "1\n",
            "0\n",
            "1\n",
            "4\n",
            "3\n",
            "2\n",
            "1\n",
            "0\n"
          ]
        }
      ]
    },
    {
      "cell_type": "code",
      "source": [
        "name = input('請輸入你的名字')   #輸入,輸出說明\n",
        "print('您好,',name)"
      ],
      "metadata": {
        "colab": {
          "base_uri": "https://localhost:8080/"
        },
        "id": "ngBoHgeyioGI",
        "outputId": "cd0bf0b4-bb68-4328-b7a8-3cc8ee5d6280"
      },
      "execution_count": 16,
      "outputs": [
        {
          "output_type": "stream",
          "name": "stdout",
          "text": [
            "請輸入你的名字Barry\n",
            "您好, Barry\n"
          ]
        }
      ]
    },
    {
      "cell_type": "code",
      "source": [
        "print(4 == 3)   #關係運算實例\n",
        "print(4 != 3)\n",
        "print(4 >= 3)"
      ],
      "metadata": {
        "colab": {
          "base_uri": "https://localhost:8080/"
        },
        "id": "zWgeEYRHmOox",
        "outputId": "b2567e8c-af11-4d1b-b6ec-645af6425842"
      },
      "execution_count": 18,
      "outputs": [
        {
          "output_type": "stream",
          "name": "stdout",
          "text": [
            "False\n",
            "True\n",
            "True\n"
          ]
        }
      ]
    },
    {
      "cell_type": "code",
      "source": [
        "# 輸入一個整數,請判斷奇偶\n",
        "\n",
        "num = 100\n",
        "\n",
        "if num % 2 == 0:\n",
        "    print(num, '為偶數')\n",
        "else:\n",
        "    print(num, '為基數')\n",
        ""
      ],
      "metadata": {
        "colab": {
          "base_uri": "https://localhost:8080/"
        },
        "id": "VDzbMCMcjoUR",
        "outputId": "264e93bc-3b94-4300-a55b-b0b78edc0a83"
      },
      "execution_count": 19,
      "outputs": [
        {
          "output_type": "stream",
          "name": "stdout",
          "text": [
            "100 為偶數\n"
          ]
        }
      ]
    },
    {
      "cell_type": "code",
      "source": [
        "# 輸入一個整數,請判斷奇偶(str類型會發生異常)\n",
        "\n",
        "num = input('請輸入一個整數')   #input輸入任何資料都是String\n",
        "\n",
        "if num % 2 == 0:\n",
        "    print(num, '為偶數')\n",
        "else:\n",
        "    print(num, '為基數')"
      ],
      "metadata": {
        "id": "DmfUOW3nn7vs"
      },
      "execution_count": null,
      "outputs": []
    },
    {
      "cell_type": "code",
      "source": [
        "# 輸入一個整數,請判斷奇偶(str類型會發生異常)\n",
        "\n",
        "# num = input('請輸入一個整數')   #input輸入任何資料都是String\n",
        "\n",
        "# num = int(num)   #int轉換num為數值或用下列方式可簡化編寫長度\n",
        "\n",
        "num = int(input('請輸入一個整數'))\n",
        "\n",
        "if num % 2 == 0:\n",
        "    print(num, '為偶數')\n",
        "else:\n",
        "    print(num, '為基數')"
      ],
      "metadata": {
        "colab": {
          "base_uri": "https://localhost:8080/"
        },
        "id": "DRAYWiYZomuk",
        "outputId": "5d0a9d11-2379-4850-df07-b94ec2018ac1"
      },
      "execution_count": 24,
      "outputs": [
        {
          "output_type": "stream",
          "name": "stdout",
          "text": [
            "請輸入一個整數77\n",
            "77 為基數\n"
          ]
        }
      ]
    },
    {
      "cell_type": "code",
      "source": [
        "# 練習題：輸入一個0到100之間的分數score,請根據以下規則輸出對應的等級：(語法一)\n",
        "\n",
        "score = int(input('請輸入分數'))\n",
        "if 0 <=  score <= 100 :\n",
        "  if 90 <= score <= 100:\n",
        "    print(\"A\")\n",
        "  elif 80 <= score < 90 :\n",
        "    print(\"B\")\n",
        "  elif 70 <= score < 80 :\n",
        "    print(\"C\")\n",
        "  elif 60 <= score < 70 :\n",
        "    print(\"D\")\n",
        "  else:\n",
        "    print(\"F\")\n",
        "else:\n",
        "    print(\"Invalid Score\")"
      ],
      "metadata": {
        "colab": {
          "base_uri": "https://localhost:8080/"
        },
        "id": "lc3HBDblrRTw",
        "outputId": "c13a7efa-d444-4b5e-e749-a83c66e1214e"
      },
      "execution_count": 31,
      "outputs": [
        {
          "output_type": "stream",
          "name": "stdout",
          "text": [
            "請輸入分數0\n",
            "F\n"
          ]
        }
      ]
    },
    {
      "cell_type": "code",
      "source": [
        "# 練習題：輸入一個0到100之間的分數score,請根據以下規則輸出對應的等級：(語法二)\n",
        "score = int(input('請輸入分數: '))\n",
        "\n",
        "if score < 0 or score > 100:\n",
        "    print(\"Invalid Score\")\n",
        "elif score >= 90:\n",
        "    print(\"A\")\n",
        "elif score >= 80:\n",
        "    print(\"B\")\n",
        "elif score >= 70:\n",
        "    print(\"C\")\n",
        "elif score >= 60:\n",
        "    print(\"D\")\n",
        "else:\n",
        "    print(\"F\")\n"
      ],
      "metadata": {
        "colab": {
          "base_uri": "https://localhost:8080/"
        },
        "id": "bnywb59uxD6B",
        "outputId": "91cea42a-135c-40f9-d771-41766c77bcf0"
      },
      "execution_count": 33,
      "outputs": [
        {
          "output_type": "stream",
          "name": "stdout",
          "text": [
            "請輸入分數: 101\n",
            "Invalid Score\n"
          ]
        }
      ]
    },
    {
      "cell_type": "code",
      "source": [
        "# 練習題：輸入一個0到100之間的分數score,請根據以下規則輸出對應的等級：(老師說明範例)\n",
        "# Ture and False\n",
        "# True or False\n",
        "# not True\n",
        "\n",
        "x = 101\n",
        "if x >= 90 and x <= 100:\n",
        "  print(\"A\")\n",
        "elif 80 <= x <90:\n",
        "  print(\"B\")\n",
        "elif 70 <= x <80:\n",
        "  print(\"C\")\n",
        "elif 60 <= x <70:\n",
        "  print(\"D\")\n",
        "elif 0 <= x <60:\n",
        "  print(\"F\")\n",
        "else:\n",
        "    print(\"輸入的成績無效\")"
      ],
      "metadata": {
        "colab": {
          "base_uri": "https://localhost:8080/"
        },
        "id": "5llD3Yd7UAMm",
        "outputId": "ec5db320-60a1-4a1c-8d42-de9210d223ba"
      },
      "execution_count": 3,
      "outputs": [
        {
          "output_type": "stream",
          "name": "stdout",
          "text": [
            "Invalid Score\n"
          ]
        }
      ]
    },
    {
      "cell_type": "code",
      "source": [
        "num = '3.1415'\n",
        "float(nim)\n",
        "\n",
        "int('100')      #轉成int\n",
        "float('3.1415')      #轉成float\n",
        "str(100)      #轉成str\n",
        "bool(0)\n",
        "bool(2)"
      ],
      "metadata": {
        "id": "3RFgjzv6XsJd"
      },
      "execution_count": null,
      "outputs": []
    },
    {
      "cell_type": "code",
      "source": [
        "#編寫程式,物件類型很重要\n",
        "#字串\n",
        "x = '''How are you\n",
        "I'm fine.\n",
        "How about you?\n",
        "'''\n",
        "\n",
        "print(x)"
      ],
      "metadata": {
        "colab": {
          "base_uri": "https://localhost:8080/"
        },
        "id": "FEYgQeb2bp-z",
        "outputId": "cf624010-19d1-45a9-c3d5-76a8a8421d9b"
      },
      "execution_count": 4,
      "outputs": [
        {
          "output_type": "stream",
          "name": "stdout",
          "text": [
            "How are you\n",
            "I'm fine.\n",
            "How about you?\n",
            "\n"
          ]
        }
      ]
    },
    {
      "cell_type": "code",
      "source": [
        "#字串相加效果\n",
        "\n",
        "'user/deaktop' + '/' + 'test.txt'"
      ],
      "metadata": {
        "colab": {
          "base_uri": "https://localhost:8080/",
          "height": 35
        },
        "id": "D8oYJl6QdbNo",
        "outputId": "b2ebdb5d-708b-41cc-eb4e-dc8a983cc0e5"
      },
      "execution_count": 5,
      "outputs": [
        {
          "output_type": "execute_result",
          "data": {
            "text/plain": [
              "'user/deaktop/test.txt'"
            ],
            "application/vnd.google.colaboratory.intrinsic+json": {
              "type": "string"
            }
          },
          "metadata": {},
          "execution_count": 5
        }
      ]
    },
    {
      "cell_type": "code",
      "source": [
        "#字串相乘效果\n",
        "'**' * 10"
      ],
      "metadata": {
        "colab": {
          "base_uri": "https://localhost:8080/",
          "height": 35
        },
        "id": "NXwjFartd299",
        "outputId": "c507f8cb-59c4-4a88-802d-f65dc0599d3c"
      },
      "execution_count": 6,
      "outputs": [
        {
          "output_type": "execute_result",
          "data": {
            "text/plain": [
              "'********************'"
            ],
            "application/vnd.google.colaboratory.intrinsic+json": {
              "type": "string"
            }
          },
          "metadata": {},
          "execution_count": 6
        }
      ]
    },
    {
      "cell_type": "code",
      "source": [
        "#字串轉義效果(轉義,逃脫)\n",
        "#'I'm fine.' #字串因符號關係而出現錯誤,故需留意排列方式\n",
        "# 'I\\'m fine.' #字串因符號加上\\符號則可正常print\n",
        "# \"I'm fine.\"  #字串因符號改用\"\"符號,可正常print\n",
        "\n",
        "# s = \"How are you?\\nI'm fine.\"\n",
        "# print(s)\n",
        "\n",
        "#s ='C:\\\\user\\\\desktop\\\\number.txt'#字串符號\\改用\\\\符號,可正常print\n",
        "s = r'C:\\user\\desktop\\number.txt'#字串符號r',可正常print\n",
        "print(s)\n"
      ],
      "metadata": {
        "colab": {
          "base_uri": "https://localhost:8080/"
        },
        "id": "2eigMPg3eVKF",
        "outputId": "2a1ff16b-19c5-46a4-dd1f-f365d7337988"
      },
      "execution_count": 10,
      "outputs": [
        {
          "output_type": "stream",
          "name": "stdout",
          "text": [
            "C:\\user\\desktop\\number.txt\n"
          ]
        }
      ]
    },
    {
      "cell_type": "code",
      "source": [
        "# a, b, c, d, e, f = \"python\" # unpack (注意,左右文字數量要相等)\n",
        "\n",
        "# print(a,c,f)\n",
        "\n",
        "# a, *b, c= \"python\" # unpack (注意,左右文字數量要相等) print結果p ['y', 't', 'h', 'o'] n\n",
        "\n",
        "# print(a,b,c)\n",
        "\n",
        "a, b, *c= \"python\" # unpack (注意,左右文字數量要相等) print結果p y ['t', 'h', 'o', 'n']\n",
        "\n",
        "print(a,b,c)\n"
      ],
      "metadata": {
        "colab": {
          "base_uri": "https://localhost:8080/"
        },
        "id": "rCbpTrhTh8ad",
        "outputId": "366b6841-57f4-4799-f00d-53e4fef8e3b7"
      },
      "execution_count": 13,
      "outputs": [
        {
          "output_type": "stream",
          "name": "stdout",
          "text": [
            "p y ['t', 'h', 'o', 'n']\n"
          ]
        }
      ]
    },
    {
      "cell_type": "code",
      "source": [
        "l = [100, 3.1415, 'Hello', True]  # 四個對四個\n",
        "a, b, c, d = l\n",
        "\n",
        "t = ('Hello', 'Word', 'python')  # 三個對三個\n",
        "x, y, z, = t\n",
        "print(a)"
      ],
      "metadata": {
        "colab": {
          "base_uri": "https://localhost:8080/"
        },
        "id": "kN3FiNokjlmb",
        "outputId": "3053ada4-a527-4b27-a45f-c09902ce16b9"
      },
      "execution_count": 23,
      "outputs": [
        {
          "output_type": "stream",
          "name": "stdout",
          "text": [
            "100\n"
          ]
        }
      ]
    },
    {
      "cell_type": "code",
      "source": [
        "#讀取單一字元\n",
        "# \"A B C D E\" 左到右 , 1, 2, 3, 4, 5 左到右  -5, -4, -3, -2, -1 右到左\n",
        "\n",
        "word = \"python\"\n",
        "word[-1]\n",
        "\n",
        "l = [100, 3.1415, 'Hello', True]\n",
        "l[-2]"
      ],
      "metadata": {
        "colab": {
          "base_uri": "https://localhost:8080/",
          "height": 35
        },
        "id": "zDY2NAQ4lXo_",
        "outputId": "b400f77d-35c7-44b3-f3ef-85555d740f43"
      },
      "execution_count": 26,
      "outputs": [
        {
          "output_type": "execute_result",
          "data": {
            "text/plain": [
              "'Hello'"
            ],
            "application/vnd.google.colaboratory.intrinsic+json": {
              "type": "string"
            }
          },
          "metadata": {},
          "execution_count": 26
        }
      ]
    }
  ]
}